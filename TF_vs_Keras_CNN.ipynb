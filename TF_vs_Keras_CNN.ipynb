{
  "nbformat": 4,
  "nbformat_minor": 0,
  "metadata": {
    "colab": {
      "name": "TF vs Keras - CNN.ipynb",
      "provenance": [],
      "collapsed_sections": [
        "V-oLZ9S94nc1",
        "-o3OzoxggHvo",
        "DdvfcbhcaqRY",
        "qo0dw8Y6hScU",
        "1Bc1m1RXbfzd"
      ],
      "include_colab_link": true
    },
    "kernelspec": {
      "name": "python3",
      "display_name": "Python 3"
    },
    "accelerator": "GPU"
  },
  "cells": [
    {
      "cell_type": "markdown",
      "metadata": {
        "id": "view-in-github",
        "colab_type": "text"
      },
      "source": [
        "<a href=\"https://colab.research.google.com/github/AnirbanMukherjeeXD/tensorflow-vs-keras/blob/master/TF_vs_Keras_CNN.ipynb\" target=\"_parent\"><img src=\"https://colab.research.google.com/assets/colab-badge.svg\" alt=\"Open In Colab\"/></a>"
      ]
    },
    {
      "cell_type": "code",
      "metadata": {
        "id": "Npl2XrNz4f1G",
        "colab_type": "code",
        "colab": {}
      },
      "source": [
        "import tensorflow as tf\n",
        "import numpy as np\n",
        "import matplotlib.pyplot as plt\n",
        "import time"
      ],
      "execution_count": 0,
      "outputs": []
    },
    {
      "cell_type": "code",
      "metadata": {
        "id": "AP4Si34XO35s",
        "colab_type": "code",
        "outputId": "386c2603-aeed-4b84-e53a-8f0fc48f6276",
        "colab": {
          "base_uri": "https://localhost:8080/",
          "height": 34
        }
      },
      "source": [
        "import keras\n",
        "from keras.models import Sequential\n",
        "from keras.layers import Dense, Conv2D, MaxPool2D, Flatten"
      ],
      "execution_count": 2,
      "outputs": [
        {
          "output_type": "stream",
          "text": [
            "Using TensorFlow backend.\n"
          ],
          "name": "stderr"
        }
      ]
    },
    {
      "cell_type": "code",
      "metadata": {
        "id": "mYAXOxGjb5fS",
        "colab_type": "code",
        "colab": {}
      },
      "source": [
        "from keras.utils import to_categorical"
      ],
      "execution_count": 0,
      "outputs": []
    },
    {
      "cell_type": "markdown",
      "metadata": {
        "id": "V-oLZ9S94nc1",
        "colab_type": "text"
      },
      "source": [
        "##Dataset MNIST"
      ]
    },
    {
      "cell_type": "markdown",
      "metadata": {
        "id": "tvovYI5xsxrf",
        "colab_type": "text"
      },
      "source": [
        "###Tensorflow"
      ]
    },
    {
      "cell_type": "code",
      "metadata": {
        "id": "_Dpamo4u4xUx",
        "colab_type": "code",
        "outputId": "0d87ad51-509f-4e93-de5a-189ab8ce3ade",
        "colab": {
          "base_uri": "https://localhost:8080/",
          "height": 84
        }
      },
      "source": [
        "from tensorflow.examples.tutorials.mnist import input_data\n",
        "data = input_data.read_data_sets('data/MNIST/', one_hot=True)"
      ],
      "execution_count": 5,
      "outputs": [
        {
          "output_type": "stream",
          "text": [
            "Extracting data/MNIST/train-images-idx3-ubyte.gz\n",
            "Extracting data/MNIST/train-labels-idx1-ubyte.gz\n",
            "Extracting data/MNIST/t10k-images-idx3-ubyte.gz\n",
            "Extracting data/MNIST/t10k-labels-idx1-ubyte.gz\n"
          ],
          "name": "stdout"
        }
      ]
    },
    {
      "cell_type": "code",
      "metadata": {
        "id": "buChbbRHrCfu",
        "colab_type": "code",
        "colab": {}
      },
      "source": [
        "batch_size=100\n",
        "x_batch, y_true_batch = data.train.next_batch(batch_size)"
      ],
      "execution_count": 0,
      "outputs": []
    },
    {
      "cell_type": "code",
      "metadata": {
        "id": "BFrflJ3xrL6a",
        "colab_type": "code",
        "outputId": "31aafe80-bab2-40fa-ce18-0a22853d4ce8",
        "colab": {
          "base_uri": "https://localhost:8080/",
          "height": 34
        }
      },
      "source": [
        "x_batch.shape"
      ],
      "execution_count": 7,
      "outputs": [
        {
          "output_type": "execute_result",
          "data": {
            "text/plain": [
              "(100, 784)"
            ]
          },
          "metadata": {
            "tags": []
          },
          "execution_count": 7
        }
      ]
    },
    {
      "cell_type": "code",
      "metadata": {
        "id": "ag8mIrpm43jl",
        "colab_type": "code",
        "colab": {}
      },
      "source": [
        "x = tf.placeholder(tf.float32, shape=[None, 28*28], name='X')\n",
        "x_image = tf.reshape(x, [-1, 28, 28, 1])\n",
        "y_true = tf.placeholder(tf.float32, shape=[None, 10], name='y_true')\n",
        "y_true_cls = tf.argmax(y_true, axis=1)"
      ],
      "execution_count": 0,
      "outputs": []
    },
    {
      "cell_type": "markdown",
      "metadata": {
        "id": "62I5oEA85KfO",
        "colab_type": "text"
      },
      "source": [
        "####Conv Layer"
      ]
    },
    {
      "cell_type": "code",
      "metadata": {
        "id": "yQkoiIFX48-P",
        "colab_type": "code",
        "colab": {}
      },
      "source": [
        "def new_conv_layer(input, num_input_channels, filter_size, num_filters, name):\n",
        "    with tf.variable_scope(name) as scope:\n",
        "        shape = [filter_size, filter_size, num_input_channels, num_filters]\n",
        "        weights = tf.Variable(tf.truncated_normal(shape, stddev=0.05))\n",
        "        biases = tf.Variable(tf.constant(0.05, shape=[num_filters]))\n",
        "        layer = tf.nn.conv2d(input=input, filter=weights, strides=[1, 1, 1, 1], padding='SAME')\n",
        "        layer += biases\n",
        "        return layer, weights"
      ],
      "execution_count": 0,
      "outputs": []
    },
    {
      "cell_type": "markdown",
      "metadata": {
        "id": "MRr8D9C-5I2v",
        "colab_type": "text"
      },
      "source": [
        "####Pool Layer"
      ]
    },
    {
      "cell_type": "code",
      "metadata": {
        "id": "ZK2gJDJs5Oze",
        "colab_type": "code",
        "colab": {}
      },
      "source": [
        "def new_pool_layer(input, name):\n",
        "    \n",
        "    with tf.variable_scope(name) as scope:\n",
        "        layer = tf.nn.max_pool(value=input, ksize=[1, 2, 2, 1], strides=[1, 2, 2, 1], padding='SAME')\n",
        "        return layer"
      ],
      "execution_count": 0,
      "outputs": []
    },
    {
      "cell_type": "markdown",
      "metadata": {
        "id": "t3ekRk_M5WR6",
        "colab_type": "text"
      },
      "source": [
        "####Relu Activation"
      ]
    },
    {
      "cell_type": "code",
      "metadata": {
        "id": "X2vkNy8N5abh",
        "colab_type": "code",
        "colab": {}
      },
      "source": [
        "def new_relu_layer(input, name):    \n",
        "    with tf.variable_scope(name) as scope:\n",
        "        layer = tf.nn.relu(input)\n",
        "        return layer"
      ],
      "execution_count": 0,
      "outputs": []
    },
    {
      "cell_type": "markdown",
      "metadata": {
        "id": "aUmi-Hn35a88",
        "colab_type": "text"
      },
      "source": [
        "####Fully Connected"
      ]
    },
    {
      "cell_type": "code",
      "metadata": {
        "id": "noXbKoyx5ep8",
        "colab_type": "code",
        "colab": {}
      },
      "source": [
        "def new_fc_layer(input, num_inputs, num_outputs, name):\n",
        "    with tf.variable_scope(name) as scope:\n",
        "        weights = tf.Variable(tf.truncated_normal([num_inputs, num_outputs], stddev=0.05))\n",
        "        biases = tf.Variable(tf.constant(0.05, shape=[num_outputs]))\n",
        "        layer = tf.matmul(input, weights) + biases\n",
        "        return layer"
      ],
      "execution_count": 0,
      "outputs": []
    },
    {
      "cell_type": "markdown",
      "metadata": {
        "id": "4OFdsMxE5fSS",
        "colab_type": "text"
      },
      "source": [
        "####CNN:"
      ]
    },
    {
      "cell_type": "code",
      "metadata": {
        "id": "DFPOtIvq5lD3",
        "colab_type": "code",
        "colab": {}
      },
      "source": [
        "conv1, weights_conv1 = new_conv_layer(input=x_image, num_input_channels=1, filter_size=5, num_filters=6, name =\"conv1\")\n",
        "pool1 = new_pool_layer(conv1, name=\"pool1\")\n",
        "relu1 = new_relu_layer(pool1, name=\"relu1\")\n",
        "conv2, weights_conv2 = new_conv_layer(input=relu1, num_input_channels=6, filter_size=5, num_filters=16, name= \"conv2\")\n",
        "pool2 = new_pool_layer(conv2, name=\"pool2\")\n",
        "relu2 = new_relu_layer(pool2, name=\"relu2\")\n",
        "num_features = relu2.get_shape()[1:4].num_elements()\n",
        "flat = tf.reshape(relu2, [-1, num_features])\n",
        "fc1 = new_fc_layer(flat, num_inputs=num_features, num_outputs=128, name=\"fc1\")\n",
        "relu3 = new_relu_layer(fc1, name=\"relu3\")\n",
        "fc2 = new_fc_layer(input=relu3, num_inputs=128, num_outputs=10, name=\"fc2\")"
      ],
      "execution_count": 0,
      "outputs": []
    },
    {
      "cell_type": "code",
      "metadata": {
        "id": "hHonADO35lbE",
        "colab_type": "code",
        "colab": {}
      },
      "source": [
        "with tf.variable_scope(\"Softmax\"):\n",
        "    y_pred = tf.nn.softmax(fc2)\n",
        "    y_pred_cls = tf.argmax(y_pred, axis=1)"
      ],
      "execution_count": 0,
      "outputs": []
    },
    {
      "cell_type": "markdown",
      "metadata": {
        "id": "kCtJtVHB5pHc",
        "colab_type": "text"
      },
      "source": [
        "####Cost Function"
      ]
    },
    {
      "cell_type": "code",
      "metadata": {
        "id": "GYjEsrAO5tUm",
        "colab_type": "code",
        "colab": {}
      },
      "source": [
        "with tf.name_scope(\"cross_ent\"):\n",
        "    cross_entropy = tf.nn.softmax_cross_entropy_with_logits_v2(logits=fc2, labels=y_true)\n",
        "    cost = tf.reduce_mean(cross_entropy)"
      ],
      "execution_count": 0,
      "outputs": []
    },
    {
      "cell_type": "markdown",
      "metadata": {
        "id": "BR8QkJy855lj",
        "colab_type": "text"
      },
      "source": [
        "####Optimizer"
      ]
    },
    {
      "cell_type": "code",
      "metadata": {
        "id": "TdhTacaS5uWd",
        "colab_type": "code",
        "colab": {}
      },
      "source": [
        "with tf.name_scope(\"optimizer\"):\n",
        "    optimizer = tf.train.AdamOptimizer(learning_rate=0.01).minimize(cost)"
      ],
      "execution_count": 0,
      "outputs": []
    },
    {
      "cell_type": "markdown",
      "metadata": {
        "id": "xDezhho557E7",
        "colab_type": "text"
      },
      "source": [
        "####Accuracy"
      ]
    },
    {
      "cell_type": "code",
      "metadata": {
        "id": "Bfs3gPLA5-Uf",
        "colab_type": "code",
        "colab": {}
      },
      "source": [
        "with tf.name_scope(\"accuracy\"):\n",
        "    correct_prediction = tf.equal(y_pred_cls, y_true_cls)\n",
        "    accuracy = tf.reduce_mean(tf.cast(correct_prediction, tf.float32))"
      ],
      "execution_count": 0,
      "outputs": []
    },
    {
      "cell_type": "code",
      "metadata": {
        "id": "DtVp_QVj5-w4",
        "colab_type": "code",
        "colab": {}
      },
      "source": [
        "writer = tf.summary.FileWriter(\"Training_FileWriter/\")\n",
        "writer1 = tf.summary.FileWriter(\"Validation_FileWriter/\")\n",
        "\n",
        "tf.summary.scalar('loss', cost)\n",
        "tf.summary.scalar('accuracy', accuracy)\n",
        "\n",
        "merged_summary = tf.summary.merge_all()"
      ],
      "execution_count": 0,
      "outputs": []
    },
    {
      "cell_type": "code",
      "metadata": {
        "id": "Md71xbKY6JiX",
        "colab_type": "code",
        "colab": {}
      },
      "source": [
        "num_epochs = 10\n",
        "batch_size = 100"
      ],
      "execution_count": 0,
      "outputs": []
    },
    {
      "cell_type": "markdown",
      "metadata": {
        "id": "GVx5PDZx6MQJ",
        "colab_type": "text"
      },
      "source": [
        "####SESSION"
      ]
    },
    {
      "cell_type": "code",
      "metadata": {
        "id": "ecvgJ1ZB6QC9",
        "colab_type": "code",
        "outputId": "574fdcd3-3f26-4f9f-e40e-8c8d023ce1bf",
        "colab": {
          "base_uri": "https://localhost:8080/",
          "height": 185
        }
      },
      "source": [
        "num_epochs = 10\n",
        "batch_size = 100\n",
        "with tf.Session() as sess:\n",
        "    sess.run(tf.global_variables_initializer())\n",
        "    writer.add_graph(sess.graph)\n",
        "    for epoch in range(num_epochs):\n",
        "        \n",
        "        start_time = time.time()\n",
        "        train_accuracy = 0\n",
        "        for batch in range(0, int(len(data.train.labels)/batch_size)):\n",
        "            x_batch, y_true_batch = data.train.next_batch(batch_size)\n",
        "            feed_dict_train = {x: x_batch, y_true: y_true_batch}\n",
        "            sess.run(optimizer, feed_dict=feed_dict_train)\n",
        "            train_accuracy += sess.run(accuracy, feed_dict=feed_dict_train)\n",
        "            summ = sess.run(merged_summary, feed_dict=feed_dict_train)\n",
        "            writer.add_summary(summ, epoch*int(len(data.train.labels)/batch_size) + batch)\n",
        "          \n",
        "        train_accuracy /= int(len(data.train.labels)/batch_size)\n",
        "        summ, vali_accuracy = sess.run([merged_summary, accuracy], feed_dict={x:data.validation.images, y_true:data.validation.labels})\n",
        "        writer1.add_summary(summ, epoch)\n",
        "        end_time = time.time()\n",
        "        print(\"Epoch \"+str(epoch+1)+\"/\"+str(num_epochs)+\" - \"+str(int(end_time-start_time))+\"s \",end=\"\")\n",
        "        print (\"  Acc:\\t{}\".format(train_accuracy),end=\"\")\n",
        "        print (\"  Val acc:\\t{}\".format(vali_accuracy))\n"
      ],
      "execution_count": 22,
      "outputs": [
        {
          "output_type": "stream",
          "text": [
            "Epoch 1/10 - 9s   Acc:\t0.9527636440233751  Val acc:\t0.9728000164031982\n",
            "Epoch 2/10 - 5s   Acc:\t0.9857091010700573  Val acc:\t0.984000027179718\n",
            "Epoch 3/10 - 5s   Acc:\t0.9895454632152211  Val acc:\t0.984000027179718\n",
            "Epoch 4/10 - 5s   Acc:\t0.9910545532269911  Val acc:\t0.9850000143051147\n",
            "Epoch 5/10 - 5s   Acc:\t0.9926909159530293  Val acc:\t0.98580002784729\n",
            "Epoch 6/10 - 5s   Acc:\t0.9937090966918252  Val acc:\t0.9865999817848206\n",
            "Epoch 7/10 - 5s   Acc:\t0.9934909150817177  Val acc:\t0.98580002784729\n",
            "Epoch 8/10 - 5s   Acc:\t0.9932909152724526  Val acc:\t0.9833999872207642\n",
            "Epoch 9/10 - 5s   Acc:\t0.9948000045256181  Val acc:\t0.98580002784729\n",
            "Epoch 10/10 - 5s   Acc:\t0.9945454596389424  Val acc:\t0.9819999933242798\n"
          ],
          "name": "stdout"
        }
      ]
    },
    {
      "cell_type": "markdown",
      "metadata": {
        "id": "XCQ03pyW6Qq4",
        "colab_type": "text"
      },
      "source": [
        "###Keras"
      ]
    },
    {
      "cell_type": "code",
      "metadata": {
        "id": "LLG5xv_6tHPV",
        "colab_type": "code",
        "colab": {}
      },
      "source": [
        "model = Sequential()\n",
        "\n",
        "model.add(Conv2D(6, kernel_size=5, activation='relu', input_shape=(28,28,1)))\n",
        "model.add(MaxPool2D(pool_size=(2,2)))\n",
        "model.add(Conv2D(16, kernel_size=5, activation='relu'))\n",
        "model.add(MaxPool2D(pool_size=(2,2)))\n",
        "model.add(Flatten())\n",
        "model.add(Dense(10, activation='softmax'))"
      ],
      "execution_count": 0,
      "outputs": []
    },
    {
      "cell_type": "code",
      "metadata": {
        "id": "JHX-cvMt0ze5",
        "colab_type": "code",
        "outputId": "3308b350-27d5-421d-bf70-2b5b7f133382",
        "colab": {
          "base_uri": "https://localhost:8080/",
          "height": 353
        }
      },
      "source": [
        "adam=keras.optimizers.Adam(lr=0.01)\n",
        "model.compile(loss=keras.losses.categorical_crossentropy,optimizer=adam, metrics=['accuracy'])\n",
        "model.summary()"
      ],
      "execution_count": 0,
      "outputs": [
        {
          "output_type": "stream",
          "text": [
            "Model: \"sequential_5\"\n",
            "_________________________________________________________________\n",
            "Layer (type)                 Output Shape              Param #   \n",
            "=================================================================\n",
            "conv2d_6 (Conv2D)            (None, 24, 24, 6)         156       \n",
            "_________________________________________________________________\n",
            "max_pooling2d_3 (MaxPooling2 (None, 12, 12, 6)         0         \n",
            "_________________________________________________________________\n",
            "conv2d_7 (Conv2D)            (None, 8, 8, 16)          2416      \n",
            "_________________________________________________________________\n",
            "max_pooling2d_4 (MaxPooling2 (None, 4, 4, 16)          0         \n",
            "_________________________________________________________________\n",
            "flatten_2 (Flatten)          (None, 256)               0         \n",
            "_________________________________________________________________\n",
            "dense_2 (Dense)              (None, 10)                2570      \n",
            "=================================================================\n",
            "Total params: 5,142\n",
            "Trainable params: 5,142\n",
            "Non-trainable params: 0\n",
            "_________________________________________________________________\n"
          ],
          "name": "stdout"
        }
      ]
    },
    {
      "cell_type": "code",
      "metadata": {
        "id": "69kstPVeMn0i",
        "colab_type": "code",
        "outputId": "2d5a37f3-bc2f-4528-cb1b-838c0823a0ba",
        "colab": {
          "base_uri": "https://localhost:8080/",
          "height": 709
        }
      },
      "source": [
        "history=model.fit(data.train.images.reshape(data.train.images.shape[0],28,28,1),data.train.labels,epochs=10,\n",
        "validation_data=(data.validation.images.reshape(data.validation.images.shape[0],28,28,1),data.validation.labels),\n",
        "batch_size=100)"
      ],
      "execution_count": 0,
      "outputs": [
        {
          "output_type": "stream",
          "text": [
            "WARNING:tensorflow:From /usr/local/lib/python3.6/dist-packages/tensorflow_core/python/ops/math_grad.py:1424: where (from tensorflow.python.ops.array_ops) is deprecated and will be removed in a future version.\n",
            "Instructions for updating:\n",
            "Use tf.where in 2.0, which has the same broadcast rule as np.where\n",
            "WARNING:tensorflow:From /usr/local/lib/python3.6/dist-packages/keras/backend/tensorflow_backend.py:1033: The name tf.assign_add is deprecated. Please use tf.compat.v1.assign_add instead.\n",
            "\n",
            "WARNING:tensorflow:From /usr/local/lib/python3.6/dist-packages/keras/backend/tensorflow_backend.py:1020: The name tf.assign is deprecated. Please use tf.compat.v1.assign instead.\n",
            "\n",
            "WARNING:tensorflow:From /usr/local/lib/python3.6/dist-packages/keras/backend/tensorflow_backend.py:3005: The name tf.Session is deprecated. Please use tf.compat.v1.Session instead.\n",
            "\n",
            "Train on 55000 samples, validate on 5000 samples\n",
            "Epoch 1/10\n",
            "WARNING:tensorflow:From /usr/local/lib/python3.6/dist-packages/keras/backend/tensorflow_backend.py:190: The name tf.get_default_session is deprecated. Please use tf.compat.v1.get_default_session instead.\n",
            "\n",
            "WARNING:tensorflow:From /usr/local/lib/python3.6/dist-packages/keras/backend/tensorflow_backend.py:197: The name tf.ConfigProto is deprecated. Please use tf.compat.v1.ConfigProto instead.\n",
            "\n",
            "WARNING:tensorflow:From /usr/local/lib/python3.6/dist-packages/keras/backend/tensorflow_backend.py:207: The name tf.global_variables is deprecated. Please use tf.compat.v1.global_variables instead.\n",
            "\n",
            "WARNING:tensorflow:From /usr/local/lib/python3.6/dist-packages/keras/backend/tensorflow_backend.py:216: The name tf.is_variable_initialized is deprecated. Please use tf.compat.v1.is_variable_initialized instead.\n",
            "\n",
            "WARNING:tensorflow:From /usr/local/lib/python3.6/dist-packages/keras/backend/tensorflow_backend.py:223: The name tf.variables_initializer is deprecated. Please use tf.compat.v1.variables_initializer instead.\n",
            "\n",
            "55000/55000 [==============================] - 10s 186us/step - loss: 0.1815 - acc: 0.9427 - val_loss: 0.0814 - val_acc: 0.9754\n",
            "Epoch 2/10\n",
            "55000/55000 [==============================] - 4s 68us/step - loss: 0.0712 - acc: 0.9781 - val_loss: 0.0658 - val_acc: 0.9816\n",
            "Epoch 3/10\n",
            "55000/55000 [==============================] - 4s 69us/step - loss: 0.0576 - acc: 0.9825 - val_loss: 0.0616 - val_acc: 0.9834\n",
            "Epoch 4/10\n",
            "55000/55000 [==============================] - 4s 68us/step - loss: 0.0517 - acc: 0.9837 - val_loss: 0.0570 - val_acc: 0.9864\n",
            "Epoch 5/10\n",
            "55000/55000 [==============================] - 4s 67us/step - loss: 0.0468 - acc: 0.9857 - val_loss: 0.0631 - val_acc: 0.9840\n",
            "Epoch 6/10\n",
            "55000/55000 [==============================] - 4s 68us/step - loss: 0.0488 - acc: 0.9845 - val_loss: 0.0860 - val_acc: 0.9774\n",
            "Epoch 7/10\n",
            "55000/55000 [==============================] - 4s 67us/step - loss: 0.0444 - acc: 0.9870 - val_loss: 0.0640 - val_acc: 0.9834\n",
            "Epoch 8/10\n",
            "55000/55000 [==============================] - 4s 67us/step - loss: 0.0446 - acc: 0.9867 - val_loss: 0.0707 - val_acc: 0.9824\n",
            "Epoch 9/10\n",
            "55000/55000 [==============================] - 4s 68us/step - loss: 0.0422 - acc: 0.9872 - val_loss: 0.0747 - val_acc: 0.9828\n",
            "Epoch 10/10\n",
            "55000/55000 [==============================] - 4s 67us/step - loss: 0.0438 - acc: 0.9877 - val_loss: 0.0722 - val_acc: 0.9808\n"
          ],
          "name": "stdout"
        }
      ]
    },
    {
      "cell_type": "markdown",
      "metadata": {
        "id": "-o3OzoxggHvo",
        "colab_type": "text"
      },
      "source": [
        "#Dataset FMNIST"
      ]
    },
    {
      "cell_type": "markdown",
      "metadata": {
        "colab_type": "text",
        "id": "ZW3A3PTNgO59"
      },
      "source": [
        "###Tensorflow"
      ]
    },
    {
      "cell_type": "code",
      "metadata": {
        "colab_type": "code",
        "outputId": "75eef05c-0a3c-403d-dc7e-f58bf54cda0a",
        "id": "wGl0P138gO6C",
        "colab": {
          "base_uri": "https://localhost:8080/"
        }
      },
      "source": [
        "from tensorflow.examples.tutorials.mnist import input_data\n",
        "data = input_data.read_data_sets('data/fashion/', one_hot=True)"
      ],
      "execution_count": 0,
      "outputs": [
        {
          "output_type": "stream",
          "text": [
            "Extracting data/fashion/train-images-idx3-ubyte.gz\n",
            "Extracting data/fashion/train-labels-idx1-ubyte.gz\n",
            "Extracting data/fashion/t10k-images-idx3-ubyte.gz\n",
            "Extracting data/fashion/t10k-labels-idx1-ubyte.gz\n"
          ],
          "name": "stdout"
        }
      ]
    },
    {
      "cell_type": "code",
      "metadata": {
        "colab_type": "code",
        "id": "bPwZFoVvgO6J",
        "colab": {}
      },
      "source": [
        "x = tf.placeholder(tf.float32, shape=[None, 28*28], name='X')\n",
        "x_image = tf.reshape(x, [-1, 28, 28, 1])\n",
        "y_true = tf.placeholder(tf.float32, shape=[None, 10], name='y_true')\n",
        "y_true_cls = tf.argmax(y_true, axis=1)"
      ],
      "execution_count": 0,
      "outputs": []
    },
    {
      "cell_type": "markdown",
      "metadata": {
        "colab_type": "text",
        "id": "AMlAspftgO6P"
      },
      "source": [
        "####Conv Layer"
      ]
    },
    {
      "cell_type": "code",
      "metadata": {
        "colab_type": "code",
        "id": "MtBAqsz1gO6R",
        "colab": {}
      },
      "source": [
        "def new_conv_layer(input, num_input_channels, filter_size, num_filters, name):\n",
        "    with tf.variable_scope(name) as scope:\n",
        "        shape = [filter_size, filter_size, num_input_channels, num_filters]\n",
        "        weights = tf.Variable(tf.truncated_normal(shape, stddev=0.05))\n",
        "        biases = tf.Variable(tf.constant(0.05, shape=[num_filters]))\n",
        "        layer = tf.nn.conv2d(input=input, filter=weights, strides=[1, 1, 1, 1], padding='SAME')\n",
        "        layer += biases\n",
        "        return layer, weights"
      ],
      "execution_count": 0,
      "outputs": []
    },
    {
      "cell_type": "markdown",
      "metadata": {
        "colab_type": "text",
        "id": "sKytmFxqgO6W"
      },
      "source": [
        "####Pool Layer"
      ]
    },
    {
      "cell_type": "code",
      "metadata": {
        "colab_type": "code",
        "id": "G9B-iGVygO6Y",
        "colab": {}
      },
      "source": [
        "def new_pool_layer(input, name):\n",
        "    \n",
        "    with tf.variable_scope(name) as scope:\n",
        "        layer = tf.nn.max_pool(value=input, ksize=[1, 2, 2, 1], strides=[1, 2, 2, 1], padding='SAME')\n",
        "        return layer"
      ],
      "execution_count": 0,
      "outputs": []
    },
    {
      "cell_type": "markdown",
      "metadata": {
        "colab_type": "text",
        "id": "bbs3N1SagO6f"
      },
      "source": [
        "####Relu Activation"
      ]
    },
    {
      "cell_type": "code",
      "metadata": {
        "colab_type": "code",
        "id": "heLZfUIYgO6h",
        "colab": {}
      },
      "source": [
        "def new_relu_layer(input, name):    \n",
        "    with tf.variable_scope(name) as scope:\n",
        "        layer = tf.nn.relu(input)\n",
        "        return layer"
      ],
      "execution_count": 0,
      "outputs": []
    },
    {
      "cell_type": "markdown",
      "metadata": {
        "colab_type": "text",
        "id": "lJAO9ZWLgO6m"
      },
      "source": [
        "####Fully Connected"
      ]
    },
    {
      "cell_type": "code",
      "metadata": {
        "colab_type": "code",
        "id": "BHgUMrzdgO6o",
        "colab": {}
      },
      "source": [
        "def new_fc_layer(input, num_inputs, num_outputs, name):\n",
        "    with tf.variable_scope(name) as scope:\n",
        "        weights = tf.Variable(tf.truncated_normal([num_inputs, num_outputs], stddev=0.05))\n",
        "        biases = tf.Variable(tf.constant(0.05, shape=[num_outputs]))\n",
        "        layer = tf.matmul(input, weights) + biases\n",
        "        return layer"
      ],
      "execution_count": 0,
      "outputs": []
    },
    {
      "cell_type": "markdown",
      "metadata": {
        "colab_type": "text",
        "id": "2CI1g4QagO6t"
      },
      "source": [
        "####CNN:"
      ]
    },
    {
      "cell_type": "code",
      "metadata": {
        "colab_type": "code",
        "id": "zFOsLA3RgO6v",
        "colab": {}
      },
      "source": [
        "conv1, weights_conv1 = new_conv_layer(input=x_image, num_input_channels=1, filter_size=5, num_filters=6, name =\"conv1\")\n",
        "pool1 = new_pool_layer(conv1, name=\"pool1\")\n",
        "relu1 = new_relu_layer(pool1, name=\"relu1\")\n",
        "conv2, weights_conv2 = new_conv_layer(input=relu1, num_input_channels=6, filter_size=5, num_filters=16, name= \"conv2\")\n",
        "pool2 = new_pool_layer(conv2, name=\"pool2\")\n",
        "relu2 = new_relu_layer(pool2, name=\"relu2\")\n",
        "num_features = relu2.get_shape()[1:4].num_elements()\n",
        "flat = tf.reshape(relu2, [-1, num_features])\n",
        "fc1 = new_fc_layer(flat, num_inputs=num_features, num_outputs=128, name=\"fc1\")\n",
        "relu3 = new_relu_layer(fc1, name=\"relu3\")\n",
        "fc2 = new_fc_layer(input=relu3, num_inputs=128, num_outputs=10, name=\"fc2\")"
      ],
      "execution_count": 0,
      "outputs": []
    },
    {
      "cell_type": "code",
      "metadata": {
        "colab_type": "code",
        "id": "N2-BTuVUgO61",
        "outputId": "8cd2aa3b-50d5-46eb-88ad-17df36ecf640",
        "colab": {
          "base_uri": "https://localhost:8080/",
          "height": 67
        }
      },
      "source": [
        "with tf.variable_scope(\"Softmax\"):\n",
        "    y_pred = tf.nn.softmax(fc2)\n",
        "    y_pred_cls = tf.argmax(y_pred, dimension=1)"
      ],
      "execution_count": 0,
      "outputs": [
        {
          "output_type": "stream",
          "text": [
            "WARNING:tensorflow:From <ipython-input-12-549bc313ba13>:3: calling argmax (from tensorflow.python.ops.math_ops) with dimension is deprecated and will be removed in a future version.\n",
            "Instructions for updating:\n",
            "Use the `axis` argument instead\n"
          ],
          "name": "stdout"
        }
      ]
    },
    {
      "cell_type": "markdown",
      "metadata": {
        "colab_type": "text",
        "id": "zvYr1LQEgO66"
      },
      "source": [
        "####Cost Function"
      ]
    },
    {
      "cell_type": "code",
      "metadata": {
        "colab_type": "code",
        "id": "1aSCa3hMgO68",
        "outputId": "bc17243d-7df3-4a9b-f02a-239029c099c3",
        "colab": {
          "base_uri": "https://localhost:8080/",
          "height": 171
        }
      },
      "source": [
        "with tf.name_scope(\"cross_ent\"):\n",
        "    cross_entropy = tf.nn.softmax_cross_entropy_with_logits(logits=fc2, labels=y_true)\n",
        "    cost = tf.reduce_mean(cross_entropy)"
      ],
      "execution_count": 0,
      "outputs": [
        {
          "output_type": "stream",
          "text": [
            "WARNING:tensorflow:From <ipython-input-13-4a71676cb4c9>:2: softmax_cross_entropy_with_logits (from tensorflow.python.ops.nn_ops) is deprecated and will be removed in a future version.\n",
            "Instructions for updating:\n",
            "\n",
            "Future major versions of TensorFlow will allow gradients to flow\n",
            "into the labels input on backprop by default.\n",
            "\n",
            "See `tf.nn.softmax_cross_entropy_with_logits_v2`.\n",
            "\n"
          ],
          "name": "stdout"
        }
      ]
    },
    {
      "cell_type": "markdown",
      "metadata": {
        "colab_type": "text",
        "id": "xQWbQN6ugO7B"
      },
      "source": [
        "####Optimizer"
      ]
    },
    {
      "cell_type": "code",
      "metadata": {
        "colab_type": "code",
        "id": "oaqxAzJagO7D",
        "colab": {}
      },
      "source": [
        "with tf.name_scope(\"optimizer\"):\n",
        "    optimizer = tf.train.AdamOptimizer(learning_rate=0.01).minimize(cost)"
      ],
      "execution_count": 0,
      "outputs": []
    },
    {
      "cell_type": "markdown",
      "metadata": {
        "colab_type": "text",
        "id": "JGQ-F59sgO7I"
      },
      "source": [
        "####Accuracy"
      ]
    },
    {
      "cell_type": "code",
      "metadata": {
        "colab_type": "code",
        "id": "lhdTXTQRgO7K",
        "colab": {}
      },
      "source": [
        "with tf.name_scope(\"accuracy\"):\n",
        "    correct_prediction = tf.equal(y_pred_cls, y_true_cls)\n",
        "    accuracy = tf.reduce_mean(tf.cast(correct_prediction, tf.float32))"
      ],
      "execution_count": 0,
      "outputs": []
    },
    {
      "cell_type": "code",
      "metadata": {
        "colab_type": "code",
        "id": "vQlSDzZWgO7Q",
        "colab": {}
      },
      "source": [
        "writer = tf.summary.FileWriter(\"Training_FileWriter/\")\n",
        "writer1 = tf.summary.FileWriter(\"Validation_FileWriter/\")\n",
        "\n",
        "tf.summary.scalar('loss', cost)\n",
        "tf.summary.scalar('accuracy', accuracy)\n",
        "\n",
        "merged_summary = tf.summary.merge_all()"
      ],
      "execution_count": 0,
      "outputs": []
    },
    {
      "cell_type": "code",
      "metadata": {
        "colab_type": "code",
        "id": "bbz4aI66gO7V",
        "colab": {}
      },
      "source": [
        "num_epochs = 10\n",
        "batch_size = 100"
      ],
      "execution_count": 0,
      "outputs": []
    },
    {
      "cell_type": "markdown",
      "metadata": {
        "colab_type": "text",
        "id": "I_vadjuXgO7b"
      },
      "source": [
        "####SESSION"
      ]
    },
    {
      "cell_type": "code",
      "metadata": {
        "colab_type": "code",
        "outputId": "f0031105-a48b-4dea-a3b9-24ced408edbd",
        "id": "sQG4iZdPgO7d",
        "colab": {
          "base_uri": "https://localhost:8080/",
          "height": 185
        }
      },
      "source": [
        "num_epochs = 10\n",
        "batch_size = 100\n",
        "with tf.Session() as sess:\n",
        "    sess.run(tf.global_variables_initializer())\n",
        "    writer.add_graph(sess.graph)\n",
        "    for epoch in range(num_epochs):\n",
        "        \n",
        "        start_time = time.time()\n",
        "        train_accuracy = 0\n",
        "        for batch in range(0, int(len(data.train.labels)/batch_size)):\n",
        "            x_batch, y_true_batch = data.train.next_batch(batch_size)\n",
        "            feed_dict_train = {x: x_batch, y_true: y_true_batch}\n",
        "            sess.run(optimizer, feed_dict=feed_dict_train)\n",
        "            train_accuracy += sess.run(accuracy, feed_dict=feed_dict_train)\n",
        "            summ = sess.run(merged_summary, feed_dict=feed_dict_train)\n",
        "            writer.add_summary(summ, epoch*int(len(data.train.labels)/batch_size) + batch)\n",
        "          \n",
        "        train_accuracy /= int(len(data.train.labels)/batch_size)\n",
        "        summ, vali_accuracy = sess.run([merged_summary, accuracy], feed_dict={x:data.validation.images, y_true:data.validation.labels})\n",
        "        writer1.add_summary(summ, epoch)\n",
        "        end_time = time.time()\n",
        "        print(\"Epoch \"+str(epoch+1)+\"/\"+str(num_epochs)+\" - \"+str(int(end_time-start_time))+\"s \",end=\"\")\n",
        "        print (\"  Acc:\\t{}\".format(train_accuracy),end=\"\")\n",
        "        print (\"  Val acc:\\t{}\".format(vali_accuracy))\n"
      ],
      "execution_count": 0,
      "outputs": [
        {
          "output_type": "stream",
          "text": [
            "Epoch 1/10 - 8s   Acc:\t0.9390909160131757  Val acc:\t0.9769999980926514\n",
            "Epoch 2/10 - 5s   Acc:\t0.9826909197460522  Val acc:\t0.9805999994277954\n",
            "Epoch 3/10 - 5s   Acc:\t0.9864000098271803  Val acc:\t0.9811999797821045\n",
            "Epoch 4/10 - 5s   Acc:\t0.9887454640865326  Val acc:\t0.9814000129699707\n",
            "Epoch 5/10 - 5s   Acc:\t0.9888363729823719  Val acc:\t0.9800000190734863\n",
            "Epoch 6/10 - 5s   Acc:\t0.9891454632715745  Val acc:\t0.979200005531311\n",
            "Epoch 7/10 - 5s   Acc:\t0.9915272798321464  Val acc:\t0.9807999730110168\n",
            "Epoch 8/10 - 5s   Acc:\t0.9913090981136669  Val acc:\t0.9800000190734863\n",
            "Epoch 9/10 - 5s   Acc:\t0.9911636441404169  Val acc:\t0.975600004196167\n",
            "Epoch 10/10 - 5s   Acc:\t0.9916363711790604  Val acc:\t0.9793999791145325\n"
          ],
          "name": "stdout"
        }
      ]
    },
    {
      "cell_type": "markdown",
      "metadata": {
        "colab_type": "text",
        "id": "RRmLoljvgO7j"
      },
      "source": [
        "###Keras"
      ]
    },
    {
      "cell_type": "code",
      "metadata": {
        "colab_type": "code",
        "id": "Ky7B3WUngO7l",
        "outputId": "91a2e439-9574-4673-adb9-7c578df44df9",
        "colab": {
          "base_uri": "https://localhost:8080/",
          "height": 104
        }
      },
      "source": [
        "model = Sequential()\n",
        "\n",
        "model.add(Conv2D(6, kernel_size=5, activation='relu', input_shape=(28,28,1)))\n",
        "model.add(MaxPool2D(pool_size=(2,2)))\n",
        "model.add(Conv2D(16, kernel_size=5, activation='relu'))\n",
        "model.add(MaxPool2D(pool_size=(2,2)))\n",
        "model.add(Flatten())\n",
        "model.add(Dense(10, activation='softmax'))"
      ],
      "execution_count": 0,
      "outputs": [
        {
          "output_type": "stream",
          "text": [
            "WARNING:tensorflow:From /usr/local/lib/python3.6/dist-packages/keras/backend/tensorflow_backend.py:66: The name tf.get_default_graph is deprecated. Please use tf.compat.v1.get_default_graph instead.\n",
            "\n",
            "WARNING:tensorflow:From /usr/local/lib/python3.6/dist-packages/keras/backend/tensorflow_backend.py:4432: The name tf.random_uniform is deprecated. Please use tf.random.uniform instead.\n",
            "\n"
          ],
          "name": "stdout"
        }
      ]
    },
    {
      "cell_type": "code",
      "metadata": {
        "colab_type": "code",
        "outputId": "4c5bca1f-9f1f-4279-e7a5-1c42b6917692",
        "id": "1nphpfv4gO7t",
        "colab": {
          "base_uri": "https://localhost:8080/",
          "height": 420
        }
      },
      "source": [
        "adam=keras.optimizers.Adam(lr=0.01)\n",
        "model.compile(loss=keras.losses.categorical_crossentropy,optimizer=adam, metrics=['accuracy'])\n",
        "model.summary()"
      ],
      "execution_count": 0,
      "outputs": [
        {
          "output_type": "stream",
          "text": [
            "WARNING:tensorflow:From /usr/local/lib/python3.6/dist-packages/keras/optimizers.py:793: The name tf.train.Optimizer is deprecated. Please use tf.compat.v1.train.Optimizer instead.\n",
            "\n",
            "WARNING:tensorflow:From /usr/local/lib/python3.6/dist-packages/keras/backend/tensorflow_backend.py:3576: The name tf.log is deprecated. Please use tf.math.log instead.\n",
            "\n",
            "Model: \"sequential_1\"\n",
            "_________________________________________________________________\n",
            "Layer (type)                 Output Shape              Param #   \n",
            "=================================================================\n",
            "conv2d_1 (Conv2D)            (None, 24, 24, 6)         156       \n",
            "_________________________________________________________________\n",
            "max_pooling2d_1 (MaxPooling2 (None, 12, 12, 6)         0         \n",
            "_________________________________________________________________\n",
            "conv2d_2 (Conv2D)            (None, 8, 8, 16)          2416      \n",
            "_________________________________________________________________\n",
            "max_pooling2d_2 (MaxPooling2 (None, 4, 4, 16)          0         \n",
            "_________________________________________________________________\n",
            "flatten_1 (Flatten)          (None, 256)               0         \n",
            "_________________________________________________________________\n",
            "dense_1 (Dense)              (None, 10)                2570      \n",
            "=================================================================\n",
            "Total params: 5,142\n",
            "Trainable params: 5,142\n",
            "Non-trainable params: 0\n",
            "_________________________________________________________________\n"
          ],
          "name": "stdout"
        }
      ]
    },
    {
      "cell_type": "code",
      "metadata": {
        "colab_type": "code",
        "outputId": "f4b4739e-89be-4d43-8ae6-c54bf7acdb96",
        "id": "l9PbFZkbgO71",
        "colab": {
          "base_uri": "https://localhost:8080/",
          "height": 675
        }
      },
      "source": [
        "history=model.fit(data.train.images.reshape(data.train.images.shape[0],28,28,1),data.train.labels,epochs=10,\n",
        "validation_data=(data.validation.images.reshape(data.validation.images.shape[0],28,28,1),data.validation.labels),\n",
        "batch_size=100)"
      ],
      "execution_count": 0,
      "outputs": [
        {
          "output_type": "stream",
          "text": [
            "WARNING:tensorflow:From /usr/local/lib/python3.6/dist-packages/tensorflow_core/python/ops/math_grad.py:1424: where (from tensorflow.python.ops.array_ops) is deprecated and will be removed in a future version.\n",
            "Instructions for updating:\n",
            "Use tf.where in 2.0, which has the same broadcast rule as np.where\n",
            "WARNING:tensorflow:From /usr/local/lib/python3.6/dist-packages/keras/backend/tensorflow_backend.py:1033: The name tf.assign_add is deprecated. Please use tf.compat.v1.assign_add instead.\n",
            "\n",
            "WARNING:tensorflow:From /usr/local/lib/python3.6/dist-packages/keras/backend/tensorflow_backend.py:1020: The name tf.assign is deprecated. Please use tf.compat.v1.assign instead.\n",
            "\n",
            "Train on 55000 samples, validate on 5000 samples\n",
            "Epoch 1/10\n",
            "WARNING:tensorflow:From /usr/local/lib/python3.6/dist-packages/keras/backend/tensorflow_backend.py:190: The name tf.get_default_session is deprecated. Please use tf.compat.v1.get_default_session instead.\n",
            "\n",
            "WARNING:tensorflow:From /usr/local/lib/python3.6/dist-packages/keras/backend/tensorflow_backend.py:197: The name tf.ConfigProto is deprecated. Please use tf.compat.v1.ConfigProto instead.\n",
            "\n",
            "WARNING:tensorflow:From /usr/local/lib/python3.6/dist-packages/keras/backend/tensorflow_backend.py:207: The name tf.global_variables is deprecated. Please use tf.compat.v1.global_variables instead.\n",
            "\n",
            "WARNING:tensorflow:From /usr/local/lib/python3.6/dist-packages/keras/backend/tensorflow_backend.py:216: The name tf.is_variable_initialized is deprecated. Please use tf.compat.v1.is_variable_initialized instead.\n",
            "\n",
            "WARNING:tensorflow:From /usr/local/lib/python3.6/dist-packages/keras/backend/tensorflow_backend.py:223: The name tf.variables_initializer is deprecated. Please use tf.compat.v1.variables_initializer instead.\n",
            "\n",
            "55000/55000 [==============================] - 4s 79us/step - loss: 0.1715 - acc: 0.9480 - val_loss: 0.0729 - val_acc: 0.9790\n",
            "Epoch 2/10\n",
            "55000/55000 [==============================] - 4s 68us/step - loss: 0.0662 - acc: 0.9800 - val_loss: 0.0620 - val_acc: 0.9816\n",
            "Epoch 3/10\n",
            "55000/55000 [==============================] - 4s 68us/step - loss: 0.0562 - acc: 0.9825 - val_loss: 0.0503 - val_acc: 0.9842\n",
            "Epoch 4/10\n",
            "55000/55000 [==============================] - 4s 69us/step - loss: 0.0512 - acc: 0.9843 - val_loss: 0.0525 - val_acc: 0.9866\n",
            "Epoch 5/10\n",
            "55000/55000 [==============================] - 4s 70us/step - loss: 0.0477 - acc: 0.9852 - val_loss: 0.0507 - val_acc: 0.9866\n",
            "Epoch 6/10\n",
            "55000/55000 [==============================] - 4s 70us/step - loss: 0.0445 - acc: 0.9865 - val_loss: 0.0607 - val_acc: 0.9838\n",
            "Epoch 7/10\n",
            "55000/55000 [==============================] - 4s 68us/step - loss: 0.0451 - acc: 0.9859 - val_loss: 0.0516 - val_acc: 0.9880\n",
            "Epoch 8/10\n",
            "55000/55000 [==============================] - 4s 68us/step - loss: 0.0439 - acc: 0.9871 - val_loss: 0.0648 - val_acc: 0.9848\n",
            "Epoch 9/10\n",
            "55000/55000 [==============================] - 4s 69us/step - loss: 0.0427 - acc: 0.9877 - val_loss: 0.0603 - val_acc: 0.9838\n",
            "Epoch 10/10\n",
            "55000/55000 [==============================] - 4s 68us/step - loss: 0.0422 - acc: 0.9874 - val_loss: 0.0603 - val_acc: 0.9866\n"
          ],
          "name": "stdout"
        }
      ]
    },
    {
      "cell_type": "markdown",
      "metadata": {
        "id": "DdvfcbhcaqRY",
        "colab_type": "text"
      },
      "source": [
        "#Dataset CIFAR-10"
      ]
    },
    {
      "cell_type": "code",
      "metadata": {
        "id": "fnp_eyFdynyA",
        "colab_type": "code",
        "colab": {}
      },
      "source": [
        "import tensorflow_datasets as tfds\n",
        "data=tfds.image.cifar.Cifar10"
      ],
      "execution_count": 0,
      "outputs": []
    },
    {
      "cell_type": "code",
      "metadata": {
        "id": "_O6tWaVha4rT",
        "colab_type": "code",
        "colab": {}
      },
      "source": [
        "from keras.datasets import cifar10\n",
        "(x_train, y_train), (x_test, y_test) = cifar10.load_data()"
      ],
      "execution_count": 0,
      "outputs": []
    },
    {
      "cell_type": "code",
      "metadata": {
        "id": "3-fTN5YPb-wr",
        "colab_type": "code",
        "colab": {}
      },
      "source": [
        "y_train=to_categorical(y_train)\n",
        "y_test=to_categorical(y_test)"
      ],
      "execution_count": 0,
      "outputs": []
    },
    {
      "cell_type": "markdown",
      "metadata": {
        "colab_type": "text",
        "id": "_diLiTdHhQCo"
      },
      "source": [
        "###Tensorflow"
      ]
    },
    {
      "cell_type": "code",
      "metadata": {
        "colab_type": "code",
        "id": "eBoNggCxhQC0",
        "colab": {}
      },
      "source": [
        "x = tf.placeholder(tf.float32, shape=[None, 32,32,3], name='X')\n",
        "x_image = tf.reshape(x, [-1, 32, 32, 3])\n",
        "y_true = tf.placeholder(tf.float32, shape=[None, 10], name='y_true')\n",
        "y_true_cls = tf.argmax(y_true, axis=1)"
      ],
      "execution_count": 0,
      "outputs": []
    },
    {
      "cell_type": "markdown",
      "metadata": {
        "colab_type": "text",
        "id": "8OuR4LsfhQC2"
      },
      "source": [
        "####Conv Layer"
      ]
    },
    {
      "cell_type": "code",
      "metadata": {
        "colab_type": "code",
        "id": "E8_ZXwOjhQC3",
        "colab": {}
      },
      "source": [
        "def new_conv_layer(input, num_input_channels, filter_size, num_filters, name):\n",
        "    with tf.variable_scope(name) as scope:\n",
        "        shape = [filter_size, filter_size, num_input_channels, num_filters]\n",
        "        weights = tf.Variable(tf.truncated_normal(shape, stddev=0.05))\n",
        "        biases = tf.Variable(tf.constant(0.05, shape=[num_filters]))\n",
        "        layer = tf.nn.conv2d(input=input, filter=weights, strides=[1, 1, 1, 1], padding='VALID')\n",
        "        layer += biases\n",
        "        return layer, weights"
      ],
      "execution_count": 0,
      "outputs": []
    },
    {
      "cell_type": "markdown",
      "metadata": {
        "colab_type": "text",
        "id": "Hbk4k7CQhQC5"
      },
      "source": [
        "####Pool Layer"
      ]
    },
    {
      "cell_type": "code",
      "metadata": {
        "colab_type": "code",
        "id": "-Z-w9x4WhQC6",
        "colab": {}
      },
      "source": [
        "def new_pool_layer(input, name):\n",
        "    \n",
        "    with tf.variable_scope(name) as scope:\n",
        "        layer = tf.nn.max_pool(value=input, ksize=[1, 2, 2, 1], strides=[1, 2, 2, 1], padding='VALID')\n",
        "        return layer"
      ],
      "execution_count": 0,
      "outputs": []
    },
    {
      "cell_type": "markdown",
      "metadata": {
        "colab_type": "text",
        "id": "2OcX9WjAhQC-"
      },
      "source": [
        "####Relu Activation"
      ]
    },
    {
      "cell_type": "code",
      "metadata": {
        "colab_type": "code",
        "id": "EqsTmX2ChQC-",
        "colab": {}
      },
      "source": [
        "def new_relu_layer(input, name):    \n",
        "    with tf.variable_scope(name) as scope:\n",
        "        layer = tf.nn.relu(input)\n",
        "        return layer"
      ],
      "execution_count": 0,
      "outputs": []
    },
    {
      "cell_type": "markdown",
      "metadata": {
        "colab_type": "text",
        "id": "97Hz1Os-hQDB"
      },
      "source": [
        "####Fully Connected"
      ]
    },
    {
      "cell_type": "code",
      "metadata": {
        "colab_type": "code",
        "id": "ovN9-U33hQDB",
        "colab": {}
      },
      "source": [
        "def new_fc_layer(input, num_inputs, num_outputs, name):\n",
        "    with tf.variable_scope(name) as scope:\n",
        "        weights = tf.Variable(tf.truncated_normal([num_inputs, num_outputs], stddev=0.05))\n",
        "        biases = tf.Variable(tf.constant(0.05, shape=[num_outputs]))\n",
        "        layer = tf.matmul(input, weights) + biases\n",
        "        return layer"
      ],
      "execution_count": 0,
      "outputs": []
    },
    {
      "cell_type": "markdown",
      "metadata": {
        "colab_type": "text",
        "id": "SRw67ZCghQDE"
      },
      "source": [
        "####CNN:"
      ]
    },
    {
      "cell_type": "code",
      "metadata": {
        "colab_type": "code",
        "id": "byASKRnehQDE",
        "colab": {}
      },
      "source": [
        "conv1, weights_conv1 = new_conv_layer(input=x_image, num_input_channels=3, filter_size=5, num_filters=8, name =\"conv1\")\n",
        "\n",
        "relu1 = new_relu_layer(conv1, name=\"relu1\")\n",
        "pool1 = new_pool_layer(relu1, name=\"pool1\")\n",
        "\n",
        "\n",
        "conv2, weights_conv2 = new_conv_layer(input=relu1, num_input_channels=8, filter_size=5, num_filters=16, name= \"conv2\")\n",
        "relu2 = new_relu_layer(conv2, name=\"relu2\")\n",
        "pool2 = new_pool_layer(relu2, name=\"pool2\")\n",
        "num_features = relu2.get_shape()[1:4].num_elements()\n",
        "flat = tf.reshape(relu2, [-1, num_features])\n",
        "fc1 = new_fc_layer(flat, num_inputs=num_features, num_outputs=128, name=\"fc1\")\n",
        "relu3 = new_relu_layer(fc1, name=\"relu3\")\n",
        "fc2 = new_fc_layer(input=relu3, num_inputs=128, num_outputs=10, name=\"fc2\")"
      ],
      "execution_count": 0,
      "outputs": []
    },
    {
      "cell_type": "code",
      "metadata": {
        "colab_type": "code",
        "id": "o8P6Xj2phQDH",
        "colab": {}
      },
      "source": [
        "with tf.variable_scope(\"Softmax\"):\n",
        "    y_pred = tf.nn.softmax(fc2)\n",
        "    y_pred_cls = tf.argmax(y_pred, dimension=1)"
      ],
      "execution_count": 0,
      "outputs": []
    },
    {
      "cell_type": "markdown",
      "metadata": {
        "colab_type": "text",
        "id": "GsQ3K2z7hQDK"
      },
      "source": [
        "####Cost Function"
      ]
    },
    {
      "cell_type": "code",
      "metadata": {
        "colab_type": "code",
        "id": "s4AJY_tFhQDK",
        "colab": {}
      },
      "source": [
        "with tf.name_scope(\"cross_ent\"):\n",
        "    cross_entropy = tf.nn.softmax_cross_entropy_with_logits(logits=fc2, labels=y_true)\n",
        "    cost = tf.reduce_mean(cross_entropy)"
      ],
      "execution_count": 0,
      "outputs": []
    },
    {
      "cell_type": "markdown",
      "metadata": {
        "colab_type": "text",
        "id": "bcViDAm-hQDN"
      },
      "source": [
        "####Optimizer"
      ]
    },
    {
      "cell_type": "code",
      "metadata": {
        "colab_type": "code",
        "id": "loocNfr3hQDN",
        "colab": {}
      },
      "source": [
        "with tf.name_scope(\"optimizer\"):\n",
        "    optimizer = tf.train.AdamOptimizer(learning_rate=0.001).minimize(cost)"
      ],
      "execution_count": 0,
      "outputs": []
    },
    {
      "cell_type": "markdown",
      "metadata": {
        "colab_type": "text",
        "id": "Zrdvsf37hQDQ"
      },
      "source": [
        "####Accuracy"
      ]
    },
    {
      "cell_type": "code",
      "metadata": {
        "colab_type": "code",
        "id": "JjJdUEu_hQDQ",
        "colab": {}
      },
      "source": [
        "with tf.name_scope(\"accuracy\"):\n",
        "    correct_prediction = tf.equal(y_pred_cls, y_true_cls)\n",
        "    accuracy = tf.reduce_mean(tf.cast(correct_prediction, tf.float32))"
      ],
      "execution_count": 0,
      "outputs": []
    },
    {
      "cell_type": "code",
      "metadata": {
        "colab_type": "code",
        "id": "SEfrfqtahQDT",
        "colab": {}
      },
      "source": [
        "writer = tf.summary.FileWriter(\"Training_FileWriter/\")\n",
        "writer1 = tf.summary.FileWriter(\"Validation_FileWriter/\")\n",
        "\n",
        "tf.summary.scalar('loss', cost)\n",
        "tf.summary.scalar('accuracy', accuracy)\n",
        "\n",
        "merged_summary = tf.summary.merge_all()"
      ],
      "execution_count": 0,
      "outputs": []
    },
    {
      "cell_type": "markdown",
      "metadata": {
        "colab_type": "text",
        "id": "-ULwmQgDhQDX"
      },
      "source": [
        "####SESSION"
      ]
    },
    {
      "cell_type": "code",
      "metadata": {
        "colab_type": "code",
        "outputId": "80e77426-5a28-4e43-fb50-e9c0d474f9c0",
        "id": "KOxKsN-VhQDY",
        "colab": {
          "base_uri": "https://localhost:8080/"
        }
      },
      "source": [
        "num_epochs = 20\n",
        "batch_size = 100\n",
        "with tf.Session() as sess:\n",
        "    sess.run(tf.global_variables_initializer())\n",
        "    writer.add_graph(sess.graph)\n",
        "    for epoch in range(num_epochs):\n",
        "        \n",
        "        start_time = time.time()\n",
        "        train_accuracy = 0\n",
        "        for batch in range(0, int(len(x_train)/batch_size)):\n",
        "            x_batch, y_true_batch = x_train[batch:batch+batch_size],y_train[batch:batch+batch_size]\n",
        "            feed_dict_train = {x: x_batch, y_true: y_true_batch}\n",
        "            sess.run(optimizer, feed_dict=feed_dict_train)\n",
        "            train_accuracy += sess.run(accuracy, feed_dict=feed_dict_train)\n",
        "            summ = sess.run(merged_summary, feed_dict=feed_dict_train)\n",
        "            writer.add_summary(summ, epoch*int(len(y_train)/batch_size) + batch)\n",
        "          \n",
        "        train_accuracy /= int(len(y_train)/batch_size)\n",
        "        summ, vali_accuracy = sess.run([merged_summary, accuracy], feed_dict={x:x_test, y_true:y_test})\n",
        "        writer1.add_summary(summ, epoch)\n",
        "        end_time = time.time()\n",
        "        print(\"Epoch \"+str(epoch+1)+\"/\"+str(num_epochs)+\" - \"+str(int(end_time-start_time))+\"s \",end=\"\")\n",
        "        print (\"  Acc:\\t{}\".format(train_accuracy),end=\"\")\n",
        "        print (\"  Val acc:\\t{}\".format(vali_accuracy))\n"
      ],
      "execution_count": 0,
      "outputs": [
        {
          "output_type": "stream",
          "text": [
            "Epoch 1/20 - 12s   Acc:\t0.9633800122439862  Val acc:\t0.23119999468326569\n",
            "Epoch 2/20 - 11s   Acc:\t0.9987200002670288  Val acc:\t0.2526000142097473\n",
            "Epoch 3/20 - 11s   Acc:\t1.0  Val acc:\t0.27619999647140503\n",
            "Epoch 4/20 - 11s   Acc:\t1.0  Val acc:\t0.27790001034736633\n",
            "Epoch 5/20 - 11s   Acc:\t1.0  Val acc:\t0.2773999869823456\n",
            "Epoch 6/20 - 11s   Acc:\t1.0  Val acc:\t0.2784999907016754\n",
            "Epoch 7/20 - 11s   Acc:\t1.0  Val acc:\t0.27869999408721924\n",
            "Epoch 8/20 - 11s   Acc:\t1.0  Val acc:\t0.27810001373291016\n",
            "Epoch 9/20 - 11s   Acc:\t1.0  Val acc:\t0.2784999907016754\n",
            "Epoch 10/20 - 11s   Acc:\t1.0  Val acc:\t0.2791999876499176\n",
            "Epoch 11/20 - 11s   Acc:\t1.0  Val acc:\t0.28049999475479126\n",
            "Epoch 12/20 - 11s   Acc:\t1.0  Val acc:\t0.28060001134872437\n",
            "Epoch 13/20 - 11s   Acc:\t1.0  Val acc:\t0.2808000147342682\n",
            "Epoch 14/20 - 11s   Acc:\t1.0  Val acc:\t0.28049999475479126\n",
            "Epoch 15/20 - 11s   Acc:\t1.0  Val acc:\t0.28119999170303345\n",
            "Epoch 16/20 - 11s   Acc:\t1.0  Val acc:\t0.2816999852657318\n",
            "Epoch 17/20 - 11s   Acc:\t1.0  Val acc:\t0.28189998865127563\n",
            "Epoch 18/20 - 11s   Acc:\t1.0  Val acc:\t0.2824999988079071\n",
            "Epoch 19/20 - 11s   Acc:\t1.0  Val acc:\t0.2833999991416931\n",
            "Epoch 20/20 - 11s   Acc:\t1.0  Val acc:\t0.28380000591278076\n"
          ],
          "name": "stdout"
        }
      ]
    },
    {
      "cell_type": "markdown",
      "metadata": {
        "id": "qo0dw8Y6hScU",
        "colab_type": "text"
      },
      "source": [
        "##Keras"
      ]
    },
    {
      "cell_type": "code",
      "metadata": {
        "colab_type": "code",
        "id": "yGxKeGPNa1Vw",
        "colab": {}
      },
      "source": [
        "#create model\n",
        "model = Sequential()\n",
        "\n",
        "#add model layers\n",
        "model.add(Conv2D(8, kernel_size=5, activation='relu', input_shape=(32,32,3)))\n",
        "model.add(MaxPool2D(pool_size=(2,2)))\n",
        "model.add(Conv2D(16, kernel_size=5, activation='relu'))\n",
        "model.add(MaxPool2D(pool_size=(2,2)))\n",
        "\n",
        "model.add(Flatten())\n",
        "model.add(Dense(128,activation='relu'))\n",
        "model.add(Dense(10, activation='softmax'))"
      ],
      "execution_count": 0,
      "outputs": []
    },
    {
      "cell_type": "code",
      "metadata": {
        "colab_type": "code",
        "outputId": "47dfca79-461a-4246-ae9c-4fdc44bfa6f4",
        "id": "abM6-AS_a1V-",
        "colab": {
          "base_uri": "https://localhost:8080/"
        }
      },
      "source": [
        "adam=keras.optimizers.Adam(lr=0.001)\n",
        "model.compile(loss=keras.losses.categorical_crossentropy,optimizer=adam, metrics=['accuracy'])\n",
        "model.summary()"
      ],
      "execution_count": 0,
      "outputs": [
        {
          "output_type": "stream",
          "text": [
            "Model: \"sequential_5\"\n",
            "_________________________________________________________________\n",
            "Layer (type)                 Output Shape              Param #   \n",
            "=================================================================\n",
            "conv2d_17 (Conv2D)           (None, 28, 28, 8)         608       \n",
            "_________________________________________________________________\n",
            "max_pooling2d_9 (MaxPooling2 (None, 14, 14, 8)         0         \n",
            "_________________________________________________________________\n",
            "conv2d_18 (Conv2D)           (None, 10, 10, 16)        3216      \n",
            "_________________________________________________________________\n",
            "max_pooling2d_10 (MaxPooling (None, 5, 5, 16)          0         \n",
            "_________________________________________________________________\n",
            "flatten_4 (Flatten)          (None, 400)               0         \n",
            "_________________________________________________________________\n",
            "dense_7 (Dense)              (None, 128)               51328     \n",
            "_________________________________________________________________\n",
            "dense_8 (Dense)              (None, 10)                1290      \n",
            "=================================================================\n",
            "Total params: 56,442\n",
            "Trainable params: 56,442\n",
            "Non-trainable params: 0\n",
            "_________________________________________________________________\n"
          ],
          "name": "stdout"
        }
      ]
    },
    {
      "cell_type": "code",
      "metadata": {
        "id": "EWPHQJdLrQSp",
        "colab_type": "code",
        "outputId": "afddeaf5-3c45-4ff6-dcba-bfa76c969a98",
        "colab": {
          "base_uri": "https://localhost:8080/"
        }
      },
      "source": [
        "history=model.fit(x_train,y_train,epochs=20,validation_data=(x_test,y_test),batch_size=100)"
      ],
      "execution_count": 0,
      "outputs": [
        {
          "output_type": "stream",
          "text": [
            "Train on 50000 samples, validate on 10000 samples\n",
            "Epoch 1/20\n",
            "50000/50000 [==============================] - 6s 115us/step - loss: 3.2487 - acc: 0.1026 - val_loss: 2.3012 - val_acc: 0.1018\n",
            "Epoch 2/20\n",
            "50000/50000 [==============================] - 5s 103us/step - loss: 2.2925 - acc: 0.1138 - val_loss: 2.2690 - val_acc: 0.1453\n",
            "Epoch 3/20\n",
            "50000/50000 [==============================] - 5s 102us/step - loss: 1.9558 - acc: 0.2863 - val_loss: 1.7234 - val_acc: 0.3663\n",
            "Epoch 4/20\n",
            "50000/50000 [==============================] - 5s 103us/step - loss: 1.6564 - acc: 0.3972 - val_loss: 1.6314 - val_acc: 0.4124\n",
            "Epoch 5/20\n",
            "50000/50000 [==============================] - 5s 102us/step - loss: 1.5293 - acc: 0.4455 - val_loss: 1.5179 - val_acc: 0.4521\n",
            "Epoch 6/20\n",
            "50000/50000 [==============================] - 5s 102us/step - loss: 1.4454 - acc: 0.4787 - val_loss: 1.4899 - val_acc: 0.4679\n",
            "Epoch 7/20\n",
            "50000/50000 [==============================] - 5s 103us/step - loss: 1.3748 - acc: 0.5070 - val_loss: 1.4607 - val_acc: 0.4809\n",
            "Epoch 8/20\n",
            "50000/50000 [==============================] - 5s 103us/step - loss: 1.3046 - acc: 0.5328 - val_loss: 1.3923 - val_acc: 0.5051\n",
            "Epoch 9/20\n",
            "50000/50000 [==============================] - 5s 102us/step - loss: 1.2540 - acc: 0.5525 - val_loss: 1.3848 - val_acc: 0.5120\n",
            "Epoch 10/20\n",
            "50000/50000 [==============================] - 5s 102us/step - loss: 1.1988 - acc: 0.5743 - val_loss: 1.4073 - val_acc: 0.5061\n",
            "Epoch 11/20\n",
            "50000/50000 [==============================] - 5s 102us/step - loss: 1.1496 - acc: 0.5905 - val_loss: 1.3800 - val_acc: 0.5220\n",
            "Epoch 12/20\n",
            "50000/50000 [==============================] - 5s 102us/step - loss: 1.0991 - acc: 0.6105 - val_loss: 1.3810 - val_acc: 0.5311\n",
            "Epoch 13/20\n",
            "50000/50000 [==============================] - 5s 103us/step - loss: 1.0648 - acc: 0.6227 - val_loss: 1.4376 - val_acc: 0.5270\n",
            "Epoch 14/20\n",
            "50000/50000 [==============================] - 5s 101us/step - loss: 1.0315 - acc: 0.6340 - val_loss: 1.4181 - val_acc: 0.5266\n",
            "Epoch 15/20\n",
            "50000/50000 [==============================] - 5s 102us/step - loss: 0.9853 - acc: 0.6501 - val_loss: 1.4005 - val_acc: 0.5348\n",
            "Epoch 16/20\n",
            "50000/50000 [==============================] - 5s 102us/step - loss: 0.9688 - acc: 0.6549 - val_loss: 1.4508 - val_acc: 0.5343\n",
            "Epoch 17/20\n",
            "50000/50000 [==============================] - 5s 101us/step - loss: 0.9253 - acc: 0.6721 - val_loss: 1.4702 - val_acc: 0.5324\n",
            "Epoch 18/20\n",
            "50000/50000 [==============================] - 5s 102us/step - loss: 0.8937 - acc: 0.6820 - val_loss: 1.5238 - val_acc: 0.5323\n",
            "Epoch 19/20\n",
            "50000/50000 [==============================] - 5s 102us/step - loss: 0.8701 - acc: 0.6898 - val_loss: 1.5273 - val_acc: 0.5326\n",
            "Epoch 20/20\n",
            "50000/50000 [==============================] - 5s 102us/step - loss: 0.8497 - acc: 0.6972 - val_loss: 1.6525 - val_acc: 0.5189\n"
          ],
          "name": "stdout"
        }
      ]
    },
    {
      "cell_type": "code",
      "metadata": {
        "id": "EQxr1PgTcedA",
        "colab_type": "code",
        "outputId": "d0f8b50f-4fd2-4b83-eeb2-adc912fc0c31",
        "colab": {
          "base_uri": "https://localhost:8080/"
        }
      },
      "source": [
        "plt.plot(history.history['acc'])\n",
        "plt.plot(history.history['val_acc'])"
      ],
      "execution_count": 0,
      "outputs": [
        {
          "output_type": "execute_result",
          "data": {
            "text/plain": [
              "[<matplotlib.lines.Line2D at 0x7fbe1013e8d0>]"
            ]
          },
          "metadata": {
            "tags": []
          },
          "execution_count": 42
        },
        {
          "output_type": "display_data",
          "data": {
            "image/png": "[encoded data removed]",
            "text/plain": [
              "<Figure size 432x288 with 1 Axes>"
            ]
          },
          "metadata": {
            "tags": []
          }
        }
      ]
    },
    {
      "cell_type": "markdown",
      "metadata": {
        "id": "1Bc1m1RXbfzd",
        "colab_type": "text"
      },
      "source": [
        "#Dataset CIFAR-100"
      ]
    },
    {
      "cell_type": "code",
      "metadata": {
        "colab_type": "code",
        "id": "7XTG16S62b2H",
        "colab": {}
      },
      "source": [
        "from keras.datasets import cifar100\n",
        "(x_train, y_train), (x_test, y_test) = cifar100.load_data()"
      ],
      "execution_count": 0,
      "outputs": []
    },
    {
      "cell_type": "code",
      "metadata": {
        "colab_type": "code",
        "id": "zUUC8osT2b2R",
        "colab": {}
      },
      "source": [
        "y_train=to_categorical(y_train)\n",
        "y_test=to_categorical(y_test)"
      ],
      "execution_count": 0,
      "outputs": []
    },
    {
      "cell_type": "code",
      "metadata": {
        "id": "_37maKkM2hpJ",
        "colab_type": "code",
        "outputId": "547e5e90-7c52-4df9-dafb-09644d28a906",
        "colab": {
          "base_uri": "https://localhost:8080/",
          "height": 35
        }
      },
      "source": [
        "y_train.shape"
      ],
      "execution_count": 0,
      "outputs": [
        {
          "output_type": "execute_result",
          "data": {
            "text/plain": [
              "(50000, 100)"
            ]
          },
          "metadata": {
            "tags": []
          },
          "execution_count": 98
        }
      ]
    },
    {
      "cell_type": "markdown",
      "metadata": {
        "colab_type": "text",
        "id": "diMz653a2b2a"
      },
      "source": [
        "###Tensorflow"
      ]
    },
    {
      "cell_type": "code",
      "metadata": {
        "colab_type": "code",
        "id": "6bbKxMLM2b2d",
        "colab": {}
      },
      "source": [
        "x = tf.placeholder(tf.float32, shape=[None, 32,32,3], name='X')\n",
        "x_image = tf.reshape(x, [-1, 32, 32, 3])\n",
        "y_true = tf.placeholder(tf.float32, shape=[None, 100], name='y_true')\n",
        "y_true_cls = tf.argmax(y_true, axis=1)"
      ],
      "execution_count": 0,
      "outputs": []
    },
    {
      "cell_type": "markdown",
      "metadata": {
        "colab_type": "text",
        "id": "a6LWbXab2b2m"
      },
      "source": [
        "####Conv Layer"
      ]
    },
    {
      "cell_type": "code",
      "metadata": {
        "colab_type": "code",
        "id": "3S7Yoh892b2p",
        "colab": {}
      },
      "source": [
        "def new_conv_layer(input, num_input_channels, filter_size, num_filters, name):\n",
        "    with tf.variable_scope(name) as scope:\n",
        "        shape = [filter_size, filter_size, num_input_channels, num_filters]\n",
        "        weights = tf.Variable(tf.truncated_normal(shape, stddev=0.05))\n",
        "        biases = tf.Variable(tf.constant(0.05, shape=[num_filters]))\n",
        "        layer = tf.nn.conv2d(input=input, filter=weights, strides=[1, 1, 1, 1], padding='VALID')\n",
        "        layer += biases\n",
        "        return layer, weights"
      ],
      "execution_count": 0,
      "outputs": []
    },
    {
      "cell_type": "markdown",
      "metadata": {
        "colab_type": "text",
        "id": "IGJPfQ1e2b2z"
      },
      "source": [
        "####Pool Layer"
      ]
    },
    {
      "cell_type": "code",
      "metadata": {
        "colab_type": "code",
        "id": "LZ1SOJes2b22",
        "colab": {}
      },
      "source": [
        "def new_pool_layer(input, name):\n",
        "    \n",
        "    with tf.variable_scope(name) as scope:\n",
        "        layer = tf.nn.max_pool(value=input, ksize=[1, 2, 2, 1], strides=[1, 2, 2, 1], padding='VALID')\n",
        "        return layer"
      ],
      "execution_count": 0,
      "outputs": []
    },
    {
      "cell_type": "markdown",
      "metadata": {
        "colab_type": "text",
        "id": "cMIu3hzN2b3A"
      },
      "source": [
        "####Relu Activation"
      ]
    },
    {
      "cell_type": "code",
      "metadata": {
        "colab_type": "code",
        "id": "uH_HvgXD2b3D",
        "colab": {}
      },
      "source": [
        "def new_relu_layer(input, name):    \n",
        "    with tf.variable_scope(name) as scope:\n",
        "        layer = tf.nn.relu(input)\n",
        "        return layer"
      ],
      "execution_count": 0,
      "outputs": []
    },
    {
      "cell_type": "markdown",
      "metadata": {
        "colab_type": "text",
        "id": "siTOFHgV2b3O"
      },
      "source": [
        "####Fully Connected"
      ]
    },
    {
      "cell_type": "code",
      "metadata": {
        "colab_type": "code",
        "id": "70jAspKv2b3T",
        "colab": {}
      },
      "source": [
        "def new_fc_layer(input, num_inputs, num_outputs, name):\n",
        "    with tf.variable_scope(name) as scope:\n",
        "        weights = tf.Variable(tf.truncated_normal([num_inputs, num_outputs], stddev=0.05))\n",
        "        biases = tf.Variable(tf.constant(0.05, shape=[num_outputs]))\n",
        "        layer = tf.matmul(input, weights) + biases\n",
        "        return layer"
      ],
      "execution_count": 0,
      "outputs": []
    },
    {
      "cell_type": "markdown",
      "metadata": {
        "colab_type": "text",
        "id": "OiowLQdN2b3f"
      },
      "source": [
        "####CNN:"
      ]
    },
    {
      "cell_type": "code",
      "metadata": {
        "colab_type": "code",
        "id": "HZsnIeB-2b3i",
        "colab": {}
      },
      "source": [
        "conv1, weights_conv1 = new_conv_layer(input=x_image, num_input_channels=3, filter_size=5, num_filters=8, name =\"conv1\")\n",
        "\n",
        "relu1 = new_relu_layer(conv1, name=\"relu1\")\n",
        "pool1 = new_pool_layer(relu1, name=\"pool1\")\n",
        "\n",
        "\n",
        "conv2, weights_conv2 = new_conv_layer(input=relu1, num_input_channels=8, filter_size=5, num_filters=16, name= \"conv2\")\n",
        "relu2 = new_relu_layer(conv2, name=\"relu2\")\n",
        "pool2 = new_pool_layer(relu2, name=\"pool2\")\n",
        "num_features = relu2.get_shape()[1:4].num_elements()\n",
        "flat = tf.reshape(relu2, [-1, num_features])\n",
        "fc1 = new_fc_layer(flat, num_inputs=num_features, num_outputs=128, name=\"fc1\")\n",
        "relu3 = new_relu_layer(fc1, name=\"relu3\")\n",
        "fc2 = new_fc_layer(input=relu3, num_inputs=128, num_outputs=100, name=\"fc2\")"
      ],
      "execution_count": 0,
      "outputs": []
    },
    {
      "cell_type": "code",
      "metadata": {
        "colab_type": "code",
        "id": "QwUKeCEn2b3r",
        "colab": {}
      },
      "source": [
        "with tf.variable_scope(\"Softmax\"):\n",
        "    y_pred = tf.nn.softmax(fc2)\n",
        "    y_pred_cls = tf.argmax(y_pred, axis=1)"
      ],
      "execution_count": 0,
      "outputs": []
    },
    {
      "cell_type": "markdown",
      "metadata": {
        "colab_type": "text",
        "id": "qBKL5Nnj2b30"
      },
      "source": [
        "####Cost Function"
      ]
    },
    {
      "cell_type": "code",
      "metadata": {
        "colab_type": "code",
        "id": "uTO6bFsY2b33",
        "outputId": "c7043f66-0690-4ba2-8339-8add3d265ae7",
        "colab": {
          "base_uri": "https://localhost:8080/",
          "height": 159
        }
      },
      "source": [
        "with tf.name_scope(\"cross_ent\"):\n",
        "    cross_entropy = tf.nn.softmax_cross_entropy_with_logits(logits=fc2, labels=y_true)\n",
        "    cost = tf.reduce_mean(cross_entropy)"
      ],
      "execution_count": 0,
      "outputs": [
        {
          "output_type": "stream",
          "text": [
            "WARNING:tensorflow:From <ipython-input-15-4a71676cb4c9>:2: softmax_cross_entropy_with_logits (from tensorflow.python.ops.nn_ops) is deprecated and will be removed in a future version.\n",
            "Instructions for updating:\n",
            "\n",
            "Future major versions of TensorFlow will allow gradients to flow\n",
            "into the labels input on backprop by default.\n",
            "\n",
            "See `tf.nn.softmax_cross_entropy_with_logits_v2`.\n",
            "\n"
          ],
          "name": "stdout"
        }
      ]
    },
    {
      "cell_type": "markdown",
      "metadata": {
        "colab_type": "text",
        "id": "yf8ONcof2b4A"
      },
      "source": [
        "####Optimizer"
      ]
    },
    {
      "cell_type": "code",
      "metadata": {
        "colab_type": "code",
        "id": "loCRmQTg2b4D",
        "colab": {}
      },
      "source": [
        "with tf.name_scope(\"optimizer\"):\n",
        "    optimizer = tf.train.AdamOptimizer(learning_rate=0.001).minimize(cost)"
      ],
      "execution_count": 0,
      "outputs": []
    },
    {
      "cell_type": "markdown",
      "metadata": {
        "colab_type": "text",
        "id": "sYFMl2R12b4M"
      },
      "source": [
        "####Accuracy"
      ]
    },
    {
      "cell_type": "code",
      "metadata": {
        "colab_type": "code",
        "id": "WejbKMnz2b4P",
        "colab": {}
      },
      "source": [
        "with tf.name_scope(\"accuracy\"):\n",
        "    correct_prediction = tf.equal(y_pred_cls, y_true_cls)\n",
        "    accuracy = tf.reduce_mean(tf.cast(correct_prediction, tf.float32))"
      ],
      "execution_count": 0,
      "outputs": []
    },
    {
      "cell_type": "code",
      "metadata": {
        "colab_type": "code",
        "id": "AjbxB8o_2b4Y",
        "colab": {}
      },
      "source": [
        "writer = tf.summary.FileWriter(\"Training_FileWriter/\")\n",
        "writer1 = tf.summary.FileWriter(\"Validation_FileWriter/\")\n",
        "\n",
        "tf.summary.scalar('loss', cost)\n",
        "tf.summary.scalar('accuracy', accuracy)\n",
        "\n",
        "merged_summary = tf.summary.merge_all()"
      ],
      "execution_count": 0,
      "outputs": []
    },
    {
      "cell_type": "markdown",
      "metadata": {
        "colab_type": "text",
        "id": "4JxujXVR2b4g"
      },
      "source": [
        "####SESSION"
      ]
    },
    {
      "cell_type": "code",
      "metadata": {
        "colab_type": "code",
        "outputId": "85a4ad35-91b5-4747-aaaf-111cf59a0dcd",
        "id": "KQPXmdbd2b4j",
        "colab": {
          "base_uri": "https://localhost:8080/",
          "height": 372
        }
      },
      "source": [
        "num_epochs = 20\n",
        "batch_size = 100\n",
        "with tf.Session() as sess:\n",
        "    sess.run(tf.global_variables_initializer())\n",
        "    writer.add_graph(sess.graph)\n",
        "    for epoch in range(num_epochs):\n",
        "        \n",
        "        start_time = time.time()\n",
        "        train_accuracy = 0\n",
        "        for batch in range(0, int(len(x_train)/batch_size)):\n",
        "            x_batch, y_true_batch = x_train[batch:batch+batch_size],y_train[batch:batch+batch_size]\n",
        "            feed_dict_train = {x: x_batch, y_true: y_true_batch}\n",
        "            sess.run(optimizer, feed_dict=feed_dict_train)\n",
        "            train_accuracy += sess.run(accuracy, feed_dict=feed_dict_train)\n",
        "            summ = sess.run(merged_summary, feed_dict=feed_dict_train)\n",
        "            writer.add_summary(summ, epoch*int(len(y_train)/batch_size) + batch)\n",
        "          \n",
        "        train_accuracy /= int(len(y_train)/batch_size)\n",
        "        summ, vali_accuracy = sess.run([merged_summary, accuracy], feed_dict={x:x_test, y_true:y_test})\n",
        "        writer1.add_summary(summ, epoch)\n",
        "        end_time = time.time()\n",
        "        print(\"Epoch \"+str(epoch+1)+\"/\"+str(num_epochs)+\" - \"+str(int(end_time-start_time))+\"s \",end=\"\")\n",
        "        print (\"  Acc:\\t{}\".format(train_accuracy),end=\"\")\n",
        "        print (\"  Val acc:\\t{}\".format(vali_accuracy))\n"
      ],
      "execution_count": 0,
      "outputs": [
        {
          "output_type": "stream",
          "text": [
            "Epoch 1/20 - 11s   Acc:\t0.9154399956949055  Val acc:\t0.02539999969303608\n",
            "Epoch 2/20 - 7s   Acc:\t0.9902000012546778  Val acc:\t0.025699999183416367\n",
            "Epoch 3/20 - 7s   Acc:\t0.9997600001096726  Val acc:\t0.026599999517202377\n",
            "Epoch 4/20 - 7s   Acc:\t1.0  Val acc:\t0.029200000688433647\n",
            "Epoch 5/20 - 7s   Acc:\t1.0  Val acc:\t0.028200000524520874\n",
            "Epoch 6/20 - 7s   Acc:\t1.0  Val acc:\t0.028300000354647636\n",
            "Epoch 7/20 - 7s   Acc:\t1.0  Val acc:\t0.02889999933540821\n",
            "Epoch 8/20 - 7s   Acc:\t1.0  Val acc:\t0.028200000524520874\n",
            "Epoch 9/20 - 7s   Acc:\t1.0  Val acc:\t0.029100000858306885\n",
            "Epoch 10/20 - 7s   Acc:\t1.0  Val acc:\t0.02850000001490116\n",
            "Epoch 11/20 - 7s   Acc:\t1.0  Val acc:\t0.02879999950528145\n",
            "Epoch 12/20 - 7s   Acc:\t1.0  Val acc:\t0.02889999933540821\n",
            "Epoch 13/20 - 7s   Acc:\t1.0  Val acc:\t0.02889999933540821\n",
            "Epoch 14/20 - 7s   Acc:\t1.0  Val acc:\t0.028999999165534973\n",
            "Epoch 15/20 - 7s   Acc:\t1.0  Val acc:\t0.02879999950528145\n",
            "Epoch 16/20 - 7s   Acc:\t1.0  Val acc:\t0.028699999675154686\n",
            "Epoch 17/20 - 7s   Acc:\t1.0  Val acc:\t0.028999999165534973\n",
            "Epoch 18/20 - 7s   Acc:\t1.0  Val acc:\t0.02889999933540821\n",
            "Epoch 19/20 - 7s   Acc:\t1.0  Val acc:\t0.02879999950528145\n",
            "Epoch 20/20 - 7s   Acc:\t1.0  Val acc:\t0.029100000858306885\n"
          ],
          "name": "stdout"
        }
      ]
    },
    {
      "cell_type": "markdown",
      "metadata": {
        "colab_type": "text",
        "id": "oJby9HER2b4y"
      },
      "source": [
        "##Keras"
      ]
    },
    {
      "cell_type": "code",
      "metadata": {
        "colab_type": "code",
        "id": "uH2JZSHy2b40",
        "colab": {}
      },
      "source": [
        "#create model\n",
        "model = Sequential()\n",
        "\n",
        "#add model layers\n",
        "model.add(Conv2D(8, kernel_size=5, activation='relu', input_shape=(32,32,3)))\n",
        "model.add(MaxPool2D(pool_size=(2,2)))\n",
        "model.add(Conv2D(16, kernel_size=5, activation='relu'))\n",
        "model.add(MaxPool2D(pool_size=(2,2)))\n",
        "\n",
        "model.add(Flatten())\n",
        "# model.add(Dense(256,activation='relu'))\n",
        "model.add(Dense(128,activation='relu'))\n",
        "model.add(Dense(100, activation='softmax'))"
      ],
      "execution_count": 0,
      "outputs": []
    },
    {
      "cell_type": "code",
      "metadata": {
        "colab_type": "code",
        "outputId": "f33241f5-aa0e-4cf3-9dec-7c593e8d33c4",
        "id": "_F9IZScL2b4-",
        "colab": {
          "base_uri": "https://localhost:8080/",
          "height": 444
        }
      },
      "source": [
        "adam=keras.optimizers.Adam(lr=0.001)\n",
        "model.compile(loss=keras.losses.categorical_crossentropy,optimizer=adam, metrics=['accuracy'])\n",
        "model.summary()"
      ],
      "execution_count": 0,
      "outputs": [
        {
          "output_type": "stream",
          "text": [
            "Model: \"sequential_3\"\n",
            "_________________________________________________________________\n",
            "Layer (type)                 Output Shape              Param #   \n",
            "=================================================================\n",
            "conv2d_5 (Conv2D)            (None, 28, 28, 8)         608       \n",
            "_________________________________________________________________\n",
            "max_pooling2d_5 (MaxPooling2 (None, 14, 14, 8)         0         \n",
            "_________________________________________________________________\n",
            "conv2d_6 (Conv2D)            (None, 10, 10, 16)        3216      \n",
            "_________________________________________________________________\n",
            "max_pooling2d_6 (MaxPooling2 (None, 5, 5, 16)          0         \n",
            "_________________________________________________________________\n",
            "flatten_3 (Flatten)          (None, 400)               0         \n",
            "_________________________________________________________________\n",
            "dense_5 (Dense)              (None, 256)               102656    \n",
            "_________________________________________________________________\n",
            "dense_6 (Dense)              (None, 128)               32896     \n",
            "_________________________________________________________________\n",
            "dense_7 (Dense)              (None, 100)               12900     \n",
            "=================================================================\n",
            "Total params: 152,276\n",
            "Trainable params: 152,276\n",
            "Non-trainable params: 0\n",
            "_________________________________________________________________\n"
          ],
          "name": "stdout"
        }
      ]
    },
    {
      "cell_type": "code",
      "metadata": {
        "colab_type": "code",
        "outputId": "b85e763e-0b9d-4a1f-89d3-0cf80334d8d3",
        "id": "n-CjUHGE2b5E",
        "colab": {
          "base_uri": "https://localhost:8080/",
          "height": 746
        }
      },
      "source": [
        "history=model.fit(x_train,y_train,epochs=20,validation_data=(x_test,y_test),batch_size=100)"
      ],
      "execution_count": 0,
      "outputs": [
        {
          "output_type": "stream",
          "text": [
            "Train on 50000 samples, validate on 10000 samples\n",
            "Epoch 1/20\n",
            "50000/50000 [==============================] - 6s 116us/step - loss: 4.8725 - acc: 0.0233 - val_loss: 4.3877 - val_acc: 0.0438\n",
            "Epoch 2/20\n",
            "50000/50000 [==============================] - 5s 107us/step - loss: 4.1411 - acc: 0.0789 - val_loss: 3.9758 - val_acc: 0.1038\n",
            "Epoch 3/20\n",
            "50000/50000 [==============================] - 5s 107us/step - loss: 3.7969 - acc: 0.1316 - val_loss: 3.8002 - val_acc: 0.1362\n",
            "Epoch 4/20\n",
            "50000/50000 [==============================] - 5s 107us/step - loss: 3.5624 - acc: 0.1698 - val_loss: 3.6866 - val_acc: 0.1586\n",
            "Epoch 5/20\n",
            "50000/50000 [==============================] - 5s 108us/step - loss: 3.3767 - acc: 0.2018 - val_loss: 3.6929 - val_acc: 0.1620\n",
            "Epoch 6/20\n",
            "50000/50000 [==============================] - 5s 106us/step - loss: 3.2168 - acc: 0.2294 - val_loss: 3.7399 - val_acc: 0.1709\n",
            "Epoch 7/20\n",
            "50000/50000 [==============================] - 5s 106us/step - loss: 3.0654 - acc: 0.2572 - val_loss: 3.7750 - val_acc: 0.1647\n",
            "Epoch 8/20\n",
            "50000/50000 [==============================] - 5s 107us/step - loss: 2.9266 - acc: 0.2833 - val_loss: 3.8110 - val_acc: 0.1686\n",
            "Epoch 9/20\n",
            "50000/50000 [==============================] - 5s 106us/step - loss: 2.8022 - acc: 0.3081 - val_loss: 3.8815 - val_acc: 0.1685\n",
            "Epoch 10/20\n",
            "50000/50000 [==============================] - 5s 105us/step - loss: 2.6841 - acc: 0.3295 - val_loss: 4.0069 - val_acc: 0.1606\n",
            "Epoch 11/20\n",
            "50000/50000 [==============================] - 5s 107us/step - loss: 2.5709 - acc: 0.3523 - val_loss: 4.0625 - val_acc: 0.1651\n",
            "Epoch 12/20\n",
            "50000/50000 [==============================] - 5s 106us/step - loss: 2.4694 - acc: 0.3738 - val_loss: 4.2152 - val_acc: 0.1639\n",
            "Epoch 13/20\n",
            "50000/50000 [==============================] - 5s 105us/step - loss: 2.3897 - acc: 0.3888 - val_loss: 4.2939 - val_acc: 0.1616\n",
            "Epoch 14/20\n",
            "50000/50000 [==============================] - 5s 105us/step - loss: 2.3160 - acc: 0.4058 - val_loss: 4.4282 - val_acc: 0.1507\n",
            "Epoch 15/20\n",
            "50000/50000 [==============================] - 5s 105us/step - loss: 2.2291 - acc: 0.4220 - val_loss: 4.5792 - val_acc: 0.1519\n",
            "Epoch 16/20\n",
            "50000/50000 [==============================] - 5s 106us/step - loss: 2.1626 - acc: 0.4381 - val_loss: 4.7144 - val_acc: 0.1511\n",
            "Epoch 17/20\n",
            "50000/50000 [==============================] - 5s 105us/step - loss: 2.1090 - acc: 0.4499 - val_loss: 4.8233 - val_acc: 0.1506\n",
            "Epoch 18/20\n",
            "50000/50000 [==============================] - 5s 105us/step - loss: 2.0426 - acc: 0.4647 - val_loss: 4.8914 - val_acc: 0.1503\n",
            "Epoch 19/20\n",
            "50000/50000 [==============================] - 5s 105us/step - loss: 1.9871 - acc: 0.4771 - val_loss: 5.0349 - val_acc: 0.1465\n",
            "Epoch 20/20\n",
            "50000/50000 [==============================] - 5s 106us/step - loss: 1.9448 - acc: 0.4824 - val_loss: 5.3212 - val_acc: 0.1416\n"
          ],
          "name": "stdout"
        }
      ]
    }
  ]
}